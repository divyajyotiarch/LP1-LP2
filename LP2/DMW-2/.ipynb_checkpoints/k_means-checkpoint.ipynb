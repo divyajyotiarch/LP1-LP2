{
 "cells": [
  {
   "cell_type": "code",
   "execution_count": 1,
   "metadata": {
    "collapsed": true
   },
   "outputs": [],
   "source": [
    "import numpy as np\n",
    "import matplotlib.pyplot as plt\n",
    "from matplotlib import style\n",
    "import pandas as pd"
   ]
  },
  {
   "cell_type": "code",
   "execution_count": 2,
   "metadata": {
    "collapsed": true
   },
   "outputs": [],
   "source": [
    "style.use('ggplot')"
   ]
  },
  {
   "cell_type": "code",
   "execution_count": 3,
   "metadata": {
    "collapsed": true
   },
   "outputs": [],
   "source": [
    "class K_Means:\n",
    "    def __init__(self, k =3, tolerance = 0.0001, max_iterations = 500):\n",
    "        self.k = k\n",
    "        self.tolerance = tolerance\n",
    "        self.max_iterations = max_iterations\n",
    "    \n",
    "    def fit(self, data):\n",
    "        self.centroids = {}\n",
    "\n",
    "        #initialize the centroids, the first 'k' elements in the dataset will be our initial centroids\n",
    "        for i in range(self.k):\n",
    "            self.centroids[i] = data[i]\n",
    "\n",
    "        #begin iterations\n",
    "        for i in range(self.max_iterations):\n",
    "            self.classes = {}\n",
    "            for i in range(self.k):\n",
    "                self.classes[i] = []\n",
    "\n",
    "            #find the distance between the point and cluster; choose the nearest centroid\n",
    "            for features in data:\n",
    "                distances = [np.linalg.norm(features - self.centroids[centroid]) for centroid in self.centroids]\n",
    "                classification = distances.index(min(distances))\n",
    "                self.classes[classification].append(features)\n",
    "\n",
    "            previous = dict(self.centroids)\n",
    "\n",
    "            #average the cluster datapoints to re-calculate the centroids\n",
    "            for classification in self.classes:\n",
    "                self.centroids[classification] = np.average(self.classes[classification], axis = 0)\n",
    "\n",
    "            isOptimal = True\n",
    "\n",
    "            for centroid in self.centroids:\n",
    "                original_centroid = previous[centroid]\n",
    "                curr = self.centroids[centroid]\n",
    "\n",
    "                if np.sum((curr - original_centroid)/original_centroid * 100.0) > self.tolerance:\n",
    "                    isOptimal = False\n",
    "\n",
    "            #break out of the main loop if the results are optimal, ie. the centroids don't change their positions much(more than our tolerance)\n",
    "            if isOptimal:\n",
    "                break\n",
    "\n",
    "    def pred(self, data):\n",
    "        distances = [np.linalg.norm(data - self.centroids[centroid]) for centroid in self.centroids]\n",
    "        classification = distances.index(min(distances))\n",
    "        return classification"
   ]
  },
  {
   "cell_type": "code",
   "execution_count": 4,
   "metadata": {
    "collapsed": true
   },
   "outputs": [],
   "source": [
    "def main():\n",
    "    df = pd.read_csv(\"Iris.csv\")\n",
    "    df = df[['SepalLengthCm', 'SepalWidthCm', 'PetalLengthCm', 'PetalWidthCm']]\n",
    "\n",
    "    X = df.values #returns a numpy array\n",
    "\n",
    "    km = K_Means(3)\n",
    "    km.fit(X)\n",
    "\n",
    "    # Plotting starts here\n",
    "    colors = 10*[\"r\", \"g\", \"c\", \"b\", \"k\"]\n",
    "\n",
    "    for centroid in km.centroids:\n",
    "        plt.scatter(km.centroids[centroid][0], km.centroids[centroid][1], s = 130, marker = \"x\")\n",
    "\n",
    "    for classification in km.classes:\n",
    "        color = colors[classification]\n",
    "        for features in km.classes[classification]:\n",
    "            plt.scatter(features[0], features[1], color = color,s = 30)"
   ]
  },
  {
   "cell_type": "code",
   "execution_count": 5,
   "metadata": {
    "collapsed": true
   },
   "outputs": [],
   "source": [
    "if __name__ == \"__main__\":\n",
    "\tmain()"
   ]
  },
  {
   "cell_type": "code",
   "execution_count": null,
   "metadata": {
    "collapsed": true
   },
   "outputs": [],
   "source": []
  }
 ],
 "metadata": {
  "kernelspec": {
   "display_name": "Python 2",
   "language": "python",
   "name": "python2"
  },
  "language_info": {
   "codemirror_mode": {
    "name": "ipython",
    "version": 2
   },
   "file_extension": ".py",
   "mimetype": "text/x-python",
   "name": "python",
   "nbconvert_exporter": "python",
   "pygments_lexer": "ipython2",
   "version": "2.7.13"
  }
 },
 "nbformat": 4,
 "nbformat_minor": 2
}
